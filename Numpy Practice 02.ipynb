{
 "cells": [
  {
   "cell_type": "markdown",
   "id": "5dc2dafc-43d8-4c2c-af64-c51d3b3d9bd1",
   "metadata": {},
   "source": [
    "# Numpy"
   ]
  },
  {
   "cell_type": "code",
   "execution_count": 2,
   "id": "4dd37b8f-e140-403a-92c4-4f7cba18b6c8",
   "metadata": {},
   "outputs": [],
   "source": [
    "import numpy as np"
   ]
  },
  {
   "cell_type": "markdown",
   "id": "0ebfb973-892c-46d5-a737-7e7387f703a8",
   "metadata": {},
   "source": [
    "### THE BASICS"
   ]
  },
  {
   "cell_type": "code",
   "execution_count": 4,
   "id": "d7d2f440-32ea-4fe2-94b9-b953d26fb8cf",
   "metadata": {},
   "outputs": [
    {
     "name": "stdout",
     "output_type": "stream",
     "text": [
      "[1 2 3]\n"
     ]
    }
   ],
   "source": [
    "a = np.array([1,2,3])\n",
    "print(a)"
   ]
  },
  {
   "cell_type": "code",
   "execution_count": 5,
   "id": "52d9afa8-002f-4f72-b5fd-39e4f512e802",
   "metadata": {},
   "outputs": [
    {
     "name": "stdout",
     "output_type": "stream",
     "text": [
      "[[1 2 3]\n",
      " [4 5 6]]\n"
     ]
    }
   ],
   "source": [
    "b = np.array([[1,2,3], [4,5,6]])\n",
    "print(b)"
   ]
  },
  {
   "cell_type": "code",
   "execution_count": 6,
   "id": "844b3c39-fc40-4480-ba51-f0af889ee17d",
   "metadata": {},
   "outputs": [
    {
     "data": {
      "text/plain": [
       "2"
      ]
     },
     "execution_count": 6,
     "metadata": {},
     "output_type": "execute_result"
    }
   ],
   "source": [
    "# get dimension\n",
    "b.ndim\n"
   ]
  },
  {
   "cell_type": "code",
   "execution_count": 7,
   "id": "c0646155-d218-4872-8b7b-e0db3a84d52f",
   "metadata": {},
   "outputs": [
    {
     "data": {
      "text/plain": [
       "1"
      ]
     },
     "execution_count": 7,
     "metadata": {},
     "output_type": "execute_result"
    }
   ],
   "source": [
    "a.ndim"
   ]
  },
  {
   "cell_type": "code",
   "execution_count": 8,
   "id": "7966f310-7ff2-4123-ac41-9c4080f52a25",
   "metadata": {},
   "outputs": [
    {
     "data": {
      "text/plain": [
       "(3,)"
      ]
     },
     "execution_count": 8,
     "metadata": {},
     "output_type": "execute_result"
    }
   ],
   "source": [
    "# get shape\n",
    "a.shape"
   ]
  },
  {
   "cell_type": "code",
   "execution_count": 9,
   "id": "447e21af-0854-480a-a14a-d5ef342a6387",
   "metadata": {},
   "outputs": [
    {
     "data": {
      "text/plain": [
       "(2, 3)"
      ]
     },
     "execution_count": 9,
     "metadata": {},
     "output_type": "execute_result"
    }
   ],
   "source": [
    "b.shape"
   ]
  },
  {
   "cell_type": "code",
   "execution_count": 10,
   "id": "86c7e3b1-a8a2-4adb-afae-64d44f7811d3",
   "metadata": {},
   "outputs": [
    {
     "data": {
      "text/plain": [
       "dtype('int32')"
      ]
     },
     "execution_count": 10,
     "metadata": {},
     "output_type": "execute_result"
    }
   ],
   "source": [
    "#GET type\n",
    "a.dtype"
   ]
  },
  {
   "cell_type": "code",
   "execution_count": 20,
   "id": "2fe1152a-f304-4416-ab01-0b155fbf9f4f",
   "metadata": {},
   "outputs": [
    {
     "data": {
      "text/plain": [
       "3"
      ]
     },
     "execution_count": 20,
     "metadata": {},
     "output_type": "execute_result"
    }
   ],
   "source": [
    "#Size\n",
    "a.size"
   ]
  },
  {
   "cell_type": "code",
   "execution_count": 22,
   "id": "dbc69f96-69f7-486f-9b2a-824a4c0b450d",
   "metadata": {},
   "outputs": [
    {
     "data": {
      "text/plain": [
       "4"
      ]
     },
     "execution_count": 22,
     "metadata": {},
     "output_type": "execute_result"
    }
   ],
   "source": [
    "a.itemsize"
   ]
  },
  {
   "cell_type": "markdown",
   "id": "4ffb3bcb-c45e-454d-9ef6-0363c12bc813",
   "metadata": {},
   "source": [
    "### Accessing specific Elements change Rows, columns"
   ]
  },
  {
   "cell_type": "code",
   "execution_count": 26,
   "id": "6de4f903-8daf-4891-94b5-9f4d3557b586",
   "metadata": {},
   "outputs": [
    {
     "name": "stdout",
     "output_type": "stream",
     "text": [
      "[[ 1  2  3  4  5  6  7]\n",
      " [ 8  9 10 11 12 13 14]]\n"
     ]
    }
   ],
   "source": [
    "a = np.array([[1,2,3,4,5,6,7], [8, 9, 10, 11, 12, 13, 14]])\n",
    "print(a)"
   ]
  },
  {
   "cell_type": "code",
   "execution_count": 28,
   "id": "225dd1f4-088e-45bc-9b7a-aeb253fea976",
   "metadata": {},
   "outputs": [
    {
     "data": {
      "text/plain": [
       "13"
      ]
     },
     "execution_count": 28,
     "metadata": {},
     "output_type": "execute_result"
    }
   ],
   "source": [
    "# Get specific elemnts\n",
    "a[1, 5]"
   ]
  },
  {
   "cell_type": "code",
   "execution_count": 30,
   "id": "ec5a1495-5b35-42dd-92fe-55e91e035efb",
   "metadata": {},
   "outputs": [
    {
     "data": {
      "text/plain": [
       "array([1, 2, 3, 4, 5, 6, 7])"
      ]
     },
     "execution_count": 30,
     "metadata": {},
     "output_type": "execute_result"
    }
   ],
   "source": [
    "#get row\n",
    "a [0, :]"
   ]
  },
  {
   "cell_type": "code",
   "execution_count": 36,
   "id": "4f75a616-ecfa-479a-a7f6-985f84f12260",
   "metadata": {},
   "outputs": [
    {
     "data": {
      "text/plain": [
       "array([ 4, 11])"
      ]
     },
     "execution_count": 36,
     "metadata": {},
     "output_type": "execute_result"
    }
   ],
   "source": [
    "#get column\n",
    "a[ : , 3]"
   ]
  },
  {
   "cell_type": "code",
   "execution_count": 38,
   "id": "16ac02af-7d91-434e-9ff3-ed8b6c3f26fc",
   "metadata": {},
   "outputs": [
    {
     "name": "stdout",
     "output_type": "stream",
     "text": [
      "[[ 1  2  3  4  5  6  7]\n",
      " [ 8  9 10 11 12 20 14]]\n"
     ]
    }
   ],
   "source": [
    "#Change element\n",
    "a[1, 5] = 20\n",
    "print(a)"
   ]
  },
  {
   "cell_type": "code",
   "execution_count": 44,
   "id": "69fb2963-6c1d-45e8-86b5-90c6ca066e57",
   "metadata": {},
   "outputs": [
    {
     "name": "stdout",
     "output_type": "stream",
     "text": [
      "[[1 2]\n",
      " [3 4]\n",
      " [5 6]\n",
      " [7 8]]\n"
     ]
    }
   ],
   "source": [
    "b = np.array([[1,2], [3,4], [5,6], [7,8]])\n",
    "print(b)"
   ]
  },
  {
   "cell_type": "code",
   "execution_count": 46,
   "id": "c5a03878-1ba9-42b0-b1d3-89e9a5fc9d2e",
   "metadata": {},
   "outputs": [
    {
     "name": "stdout",
     "output_type": "stream",
     "text": [
      "[[[ 1  2  3]\n",
      "  [ 4  5  6]]\n",
      "\n",
      " [[ 7  8  9]\n",
      "  [10 11 12]]]\n"
     ]
    }
   ],
   "source": [
    "arr = np.array([\n",
    "    [[1, 2, 3],\n",
    "     [4, 5, 6]],\n",
    "    \n",
    "    [[7, 8, 9],\n",
    "     [10, 11, 12]]\n",
    "])\n",
    "print(arr)"
   ]
  },
  {
   "cell_type": "code",
   "execution_count": 48,
   "id": "9be3d072-fe38-4f56-88d5-9ddad997747a",
   "metadata": {},
   "outputs": [
    {
     "data": {
      "text/plain": [
       "(2, 2, 3)"
      ]
     },
     "execution_count": 48,
     "metadata": {},
     "output_type": "execute_result"
    }
   ],
   "source": [
    "arr.shape"
   ]
  },
  {
   "cell_type": "markdown",
   "id": "13e60986-cbaf-4ad9-af09-834677133965",
   "metadata": {},
   "source": [
    "### Intializing differnt type of array"
   ]
  },
  {
   "cell_type": "code",
   "execution_count": 51,
   "id": "8842aa65-ff6e-409e-b13b-a73e26a10ee0",
   "metadata": {},
   "outputs": [
    {
     "data": {
      "text/plain": [
       "array([0., 0., 0., 0., 0., 0., 0.])"
      ]
     },
     "execution_count": 51,
     "metadata": {},
     "output_type": "execute_result"
    }
   ],
   "source": [
    "#zero\n",
    "np.zeros(7)"
   ]
  },
  {
   "cell_type": "code",
   "execution_count": 53,
   "id": "8caa7b82-777a-4071-bc21-863d5215f8bb",
   "metadata": {},
   "outputs": [
    {
     "data": {
      "text/plain": [
       "array([[0., 0., 0.],\n",
       "       [0., 0., 0.]])"
      ]
     },
     "execution_count": 53,
     "metadata": {},
     "output_type": "execute_result"
    }
   ],
   "source": [
    "np.zeros((2,3))"
   ]
  },
  {
   "cell_type": "code",
   "execution_count": 57,
   "id": "0490810c-e85c-455c-ab0b-0efcbc3d2e73",
   "metadata": {},
   "outputs": [
    {
     "data": {
      "text/plain": [
       "array([1., 1., 1., 1., 1., 1., 1.])"
      ]
     },
     "execution_count": 57,
     "metadata": {},
     "output_type": "execute_result"
    }
   ],
   "source": [
    "#Ones\n",
    "np.ones(7)"
   ]
  },
  {
   "cell_type": "code",
   "execution_count": 61,
   "id": "89338bc6-8e80-49c0-943c-56b99baa561f",
   "metadata": {},
   "outputs": [
    {
     "data": {
      "text/plain": [
       "array([[1, 1, 1],\n",
       "       [1, 1, 1]])"
      ]
     },
     "execution_count": 61,
     "metadata": {},
     "output_type": "execute_result"
    }
   ],
   "source": [
    "np.ones((2,3), dtype=\"int32\")"
   ]
  },
  {
   "cell_type": "code",
   "execution_count": 63,
   "id": "bada3304-574e-4f74-b7ec-4472c56d2c70",
   "metadata": {},
   "outputs": [
    {
     "data": {
      "text/plain": [
       "array([[44, 44, 44],\n",
       "       [44, 44, 44]])"
      ]
     },
     "execution_count": 63,
     "metadata": {},
     "output_type": "execute_result"
    }
   ],
   "source": [
    "#Any other numbers \n",
    "np.full((2,3), 44)"
   ]
  },
  {
   "cell_type": "code",
   "execution_count": 65,
   "id": "4dfe3a6b-404d-4f40-95b0-20cd782a45bc",
   "metadata": {},
   "outputs": [
    {
     "data": {
      "text/plain": [
       "array([[3, 3, 3, 3, 3, 3, 3],\n",
       "       [3, 3, 3, 3, 3, 3, 3]])"
      ]
     },
     "execution_count": 65,
     "metadata": {},
     "output_type": "execute_result"
    }
   ],
   "source": [
    "np.full(a.shape,3)"
   ]
  },
  {
   "cell_type": "code",
   "execution_count": 69,
   "id": "d7b156fa-0126-45b1-8032-ce1108e93646",
   "metadata": {},
   "outputs": [
    {
     "data": {
      "text/plain": [
       "array([[0.22985024, 0.01924477, 0.48372304, 0.54420605],\n",
       "       [0.3642873 , 0.78814897, 0.46920073, 0.52340749]])"
      ]
     },
     "execution_count": 69,
     "metadata": {},
     "output_type": "execute_result"
    }
   ],
   "source": [
    "#RAndom NUmbers\n",
    "np.random.rand(2,3)"
   ]
  },
  {
   "cell_type": "code",
   "execution_count": 81,
   "id": "264a7758-41d4-4d3b-9afa-a289b7a6d4c4",
   "metadata": {},
   "outputs": [
    {
     "data": {
      "text/plain": [
       "array([[4, 5, 2],\n",
       "       [1, 1, 7]])"
      ]
     },
     "execution_count": 81,
     "metadata": {},
     "output_type": "execute_result"
    }
   ],
   "source": [
    "np.random.randint(8, size=(2,3))"
   ]
  },
  {
   "cell_type": "code",
   "execution_count": 83,
   "id": "3d9614dc-59fe-4de8-8c8c-7f2e3ff1e51a",
   "metadata": {},
   "outputs": [
    {
     "data": {
      "text/plain": [
       "array([[ 0, -2, -6],\n",
       "       [-6,  1, -5],\n",
       "       [-2,  1,  3],\n",
       "       [ 5, -3, -5],\n",
       "       [-3,  2,  6]])"
      ]
     },
     "execution_count": 83,
     "metadata": {},
     "output_type": "execute_result"
    }
   ],
   "source": [
    "np.random.randint(-6, 8, size=(5,3))"
   ]
  },
  {
   "cell_type": "code",
   "execution_count": 89,
   "id": "802124a0-2b53-4c0c-b9ba-fada981607ca",
   "metadata": {},
   "outputs": [
    {
     "data": {
      "text/plain": [
       "array([[1., 0., 0., 0.],\n",
       "       [0., 1., 0., 0.],\n",
       "       [0., 0., 1., 0.],\n",
       "       [0., 0., 0., 1.]])"
      ]
     },
     "execution_count": 89,
     "metadata": {},
     "output_type": "execute_result"
    }
   ],
   "source": [
    "#Identity Matrix\n",
    "np.identity(4)"
   ]
  },
  {
   "cell_type": "code",
   "execution_count": 101,
   "id": "28089ba1-9cc4-40ee-826f-ebb0ec6b2971",
   "metadata": {},
   "outputs": [
    {
     "name": "stdout",
     "output_type": "stream",
     "text": [
      "[[1 2 3]\n",
      " [1 2 3]\n",
      " [1 2 3]\n",
      " [1 2 3]]\n"
     ]
    }
   ],
   "source": [
    "#Repeat an array\n",
    "arr = np.array([[1,2,3]])\n",
    "r1 = np.repeat(arr, 4  , axis = 0)\n",
    "print(r1)\n"
   ]
  },
  {
   "cell_type": "code",
   "execution_count": 115,
   "id": "1ebc21a3-1e11-4c44-8c19-a89d138e1026",
   "metadata": {},
   "outputs": [
    {
     "name": "stdout",
     "output_type": "stream",
     "text": [
      "[[1. 1. 1. 1. 1.]\n",
      " [1. 1. 1. 1. 1.]\n",
      " [1. 1. 1. 1. 1.]\n",
      " [1. 1. 1. 1. 1.]\n",
      " [1. 1. 1. 1. 1.]]\n",
      "[[0. 0. 0.]\n",
      " [0. 9. 0.]\n",
      " [0. 0. 0.]]\n",
      "[[1. 1. 1. 1. 1.]\n",
      " [1. 0. 0. 0. 1.]\n",
      " [1. 0. 9. 0. 1.]\n",
      " [1. 0. 0. 0. 1.]\n",
      " [1. 1. 1. 1. 1.]]\n"
     ]
    }
   ],
   "source": [
    "output = np.ones((5,5))\n",
    "print(output)\n",
    "\n",
    "z = np.zeros((3,3))\n",
    "z[1,1] = 9\n",
    "print(z)\n",
    "\n",
    "output[1:-1, 1:-1] = z\n",
    "print(output)"
   ]
  },
  {
   "cell_type": "markdown",
   "id": "c0af548a-b959-4c55-b6a8-990543edcce7",
   "metadata": {},
   "source": [
    "#### BE careful when coping array"
   ]
  },
  {
   "cell_type": "code",
   "execution_count": 129,
   "id": "e397cf56-62d0-4bd7-b0d3-0e1bcc87efd0",
   "metadata": {},
   "outputs": [
    {
     "name": "stdout",
     "output_type": "stream",
     "text": [
      "[100   2   3]\n",
      "[100   2   3]\n"
     ]
    }
   ],
   "source": [
    "a = np.array((1,2,3))\n",
    "b=a\n",
    "b\n",
    "\n",
    "a[0] = 100\n",
    "print(b)\n",
    "print(a)"
   ]
  },
  {
   "cell_type": "code",
   "execution_count": 131,
   "id": "3c38822d-28f9-4c19-92bf-48dc51a0795e",
   "metadata": {},
   "outputs": [
    {
     "name": "stdout",
     "output_type": "stream",
     "text": [
      "[1 2 3]\n",
      "[100   2   3]\n"
     ]
    }
   ],
   "source": [
    "a = np.array((1,2,3))\n",
    "b=a.copy()\n",
    "b\n",
    "\n",
    "a[0] = 100\n",
    "print(b)\n",
    "print(a)"
   ]
  },
  {
   "cell_type": "markdown",
   "id": "569ef14c-68a1-4fdb-baa5-4babdca56ad2",
   "metadata": {},
   "source": [
    "## MAthematics"
   ]
  },
  {
   "cell_type": "code",
   "execution_count": 136,
   "id": "df3cd903-e80b-4914-878a-aa048d7020b6",
   "metadata": {},
   "outputs": [
    {
     "name": "stdout",
     "output_type": "stream",
     "text": [
      "[1 2 3]\n"
     ]
    }
   ],
   "source": [
    "a = np.array((1,2,3))\n",
    "print(a)"
   ]
  },
  {
   "cell_type": "code",
   "execution_count": 138,
   "id": "43b60393-1dae-4466-af70-8d95cc8e8964",
   "metadata": {},
   "outputs": [
    {
     "data": {
      "text/plain": [
       "array([3, 4, 5])"
      ]
     },
     "execution_count": 138,
     "metadata": {},
     "output_type": "execute_result"
    }
   ],
   "source": [
    "a + 2"
   ]
  },
  {
   "cell_type": "code",
   "execution_count": 140,
   "id": "3d1da880-5448-42cf-945f-a7439260ba4d",
   "metadata": {},
   "outputs": [
    {
     "data": {
      "text/plain": [
       "array([-1,  0,  1])"
      ]
     },
     "execution_count": 140,
     "metadata": {},
     "output_type": "execute_result"
    }
   ],
   "source": [
    "a - 2"
   ]
  },
  {
   "cell_type": "code",
   "execution_count": 142,
   "id": "4d864d16-f2ea-46db-869e-c9f1ae3f351e",
   "metadata": {},
   "outputs": [
    {
     "data": {
      "text/plain": [
       "array([2, 4, 6])"
      ]
     },
     "execution_count": 142,
     "metadata": {},
     "output_type": "execute_result"
    }
   ],
   "source": [
    "b = np.array((1,2,3))\n",
    "a+b"
   ]
  },
  {
   "cell_type": "code",
   "execution_count": 144,
   "id": "d867673f-12a1-4fd8-93d3-a69056932a2a",
   "metadata": {},
   "outputs": [
    {
     "data": {
      "text/plain": [
       "array([0.84147098, 0.90929743, 0.14112001])"
      ]
     },
     "execution_count": 144,
     "metadata": {},
     "output_type": "execute_result"
    }
   ],
   "source": [
    "np.sin(a)"
   ]
  },
  {
   "cell_type": "markdown",
   "id": "2ec5b31d-7c1b-4dde-8049-28655545b0ba",
   "metadata": {},
   "source": [
    "### Linear Algebra"
   ]
  },
  {
   "cell_type": "code",
   "execution_count": 153,
   "id": "d3ed7dec-0774-4138-b010-8e869db0be6f",
   "metadata": {},
   "outputs": [
    {
     "name": "stdout",
     "output_type": "stream",
     "text": [
      "[[1. 1. 1.]\n",
      " [1. 1. 1.]]\n",
      "[[4 4 4 4]\n",
      " [4 4 4 4]\n",
      " [4 4 4 4]]\n"
     ]
    }
   ],
   "source": [
    "a = np.ones((2,3))\n",
    "print(a)\n",
    "\n",
    "b = np.full((3,4), 4)\n",
    "print(b)"
   ]
  },
  {
   "cell_type": "code",
   "execution_count": 157,
   "id": "b87af86d-ed30-459b-b071-793559cceb3e",
   "metadata": {},
   "outputs": [
    {
     "data": {
      "text/plain": [
       "array([[12., 12., 12., 12.],\n",
       "       [12., 12., 12., 12.]])"
      ]
     },
     "execution_count": 157,
     "metadata": {},
     "output_type": "execute_result"
    }
   ],
   "source": [
    "np.matmul(a,b)"
   ]
  },
  {
   "cell_type": "code",
   "execution_count": 159,
   "id": "58fb119a-106d-4b42-826d-7e797b1a09e7",
   "metadata": {},
   "outputs": [],
   "source": [
    "# 1D vector\n",
    "v = np.array([1, 2, 3])\n",
    "\n",
    "# 2D matrix\n",
    "A = np.array([[1, 2], [3, 4]])"
   ]
  },
  {
   "cell_type": "code",
   "execution_count": 161,
   "id": "534ecb29-c915-4a26-940f-de27e897e5b8",
   "metadata": {},
   "outputs": [
    {
     "data": {
      "text/plain": [
       "array([[1, 3],\n",
       "       [2, 4]])"
      ]
     },
     "execution_count": 161,
     "metadata": {},
     "output_type": "execute_result"
    }
   ],
   "source": [
    "A.T   # or np.transpose(A)\n"
   ]
  },
  {
   "cell_type": "markdown",
   "id": "522741db-c4c2-4e95-aa7e-38658128c975",
   "metadata": {},
   "source": [
    "### Statistics"
   ]
  },
  {
   "cell_type": "code",
   "execution_count": 185,
   "id": "4cbe86e6-c5b4-478e-84de-b72ea3ef28a8",
   "metadata": {},
   "outputs": [
    {
     "name": "stdout",
     "output_type": "stream",
     "text": [
      "[2 3 4]\n"
     ]
    }
   ],
   "source": [
    "stat = np.array((2,3,4))\n",
    "print(stat)"
   ]
  },
  {
   "cell_type": "code",
   "execution_count": 175,
   "id": "7783bde2-d388-4e42-9dba-3e74d2bb7ebf",
   "metadata": {},
   "outputs": [
    {
     "data": {
      "text/plain": [
       "4"
      ]
     },
     "execution_count": 175,
     "metadata": {},
     "output_type": "execute_result"
    }
   ],
   "source": [
    "np.max(stat)"
   ]
  },
  {
   "cell_type": "code",
   "execution_count": 177,
   "id": "71e42312-37bb-4c84-8ddc-bceb67ecfcec",
   "metadata": {},
   "outputs": [
    {
     "data": {
      "text/plain": [
       "2"
      ]
     },
     "execution_count": 177,
     "metadata": {},
     "output_type": "execute_result"
    }
   ],
   "source": [
    "np.min(stat)"
   ]
  },
  {
   "cell_type": "code",
   "execution_count": 181,
   "id": "c1889463-54a3-475b-b6e4-d3b2cb14074d",
   "metadata": {},
   "outputs": [
    {
     "data": {
      "text/plain": [
       "9"
      ]
     },
     "execution_count": 181,
     "metadata": {},
     "output_type": "execute_result"
    }
   ],
   "source": [
    "np.sum(stat, axis=0)"
   ]
  },
  {
   "cell_type": "markdown",
   "id": "ea73a5ab-6706-4647-9d58-bfbcab106894",
   "metadata": {},
   "source": [
    "### Reorganizing Array"
   ]
  },
  {
   "cell_type": "code",
   "execution_count": 202,
   "id": "febcaaf4-eda5-4ac0-8e64-d7d0475f9dd6",
   "metadata": {},
   "outputs": [
    {
     "name": "stdout",
     "output_type": "stream",
     "text": [
      "[[1 2 3 4]\n",
      " [4 5 6 7]]\n",
      "(2, 4)\n"
     ]
    }
   ],
   "source": [
    "before = np.array([[1,2,3,4], [4,5,6,7]])\n",
    "print(before)\n",
    "print(before.shape)"
   ]
  },
  {
   "cell_type": "code",
   "execution_count": 208,
   "id": "cbdeadd9-c1b3-4907-8855-65a30963d7db",
   "metadata": {},
   "outputs": [
    {
     "name": "stdout",
     "output_type": "stream",
     "text": [
      "[[1 2 3 4]\n",
      " [4 5 6 7]]\n"
     ]
    },
    {
     "ename": "ValueError",
     "evalue": "cannot reshape array of size 8 into shape (2,3)",
     "output_type": "error",
     "traceback": [
      "\u001b[1;31m---------------------------------------------------------------------------\u001b[0m",
      "\u001b[1;31mValueError\u001b[0m                                Traceback (most recent call last)",
      "Cell \u001b[1;32mIn[208], line 3\u001b[0m\n\u001b[0;32m      1\u001b[0m before \u001b[38;5;241m=\u001b[39m np\u001b[38;5;241m.\u001b[39marray([[\u001b[38;5;241m1\u001b[39m,\u001b[38;5;241m2\u001b[39m,\u001b[38;5;241m3\u001b[39m,\u001b[38;5;241m4\u001b[39m], [\u001b[38;5;241m4\u001b[39m,\u001b[38;5;241m5\u001b[39m,\u001b[38;5;241m6\u001b[39m,\u001b[38;5;241m7\u001b[39m]])\n\u001b[0;32m      2\u001b[0m \u001b[38;5;28mprint\u001b[39m(before)\n\u001b[1;32m----> 3\u001b[0m after \u001b[38;5;241m=\u001b[39m before\u001b[38;5;241m.\u001b[39mreshape((\u001b[38;5;241m2\u001b[39m,\u001b[38;5;241m3\u001b[39m))\n\u001b[0;32m      4\u001b[0m \u001b[38;5;28mprint\u001b[39m(after)\n",
      "\u001b[1;31mValueError\u001b[0m: cannot reshape array of size 8 into shape (2,3)"
     ]
    }
   ],
   "source": [
    "before = np.array([[1,2,3,4], [4,5,6,7]])\n",
    "print(before)\n",
    "after = before.reshape((2,3))\n",
    "print(after)"
   ]
  },
  {
   "cell_type": "code",
   "execution_count": 212,
   "id": "ff4ed5df-59f1-4ec2-a124-6c780891bb20",
   "metadata": {},
   "outputs": [
    {
     "data": {
      "text/plain": [
       "array([[1, 2, 3],\n",
       "       [1, 9, 4]])"
      ]
     },
     "execution_count": 212,
     "metadata": {},
     "output_type": "execute_result"
    }
   ],
   "source": [
    "# Vertically stack \n",
    "v1 = np.array([1,2,3])\n",
    "v2 = np.array([1,9,4])\n",
    "\n",
    "np.vstack((v1,v2))"
   ]
  },
  {
   "cell_type": "code",
   "execution_count": 214,
   "id": "ec29fad3-302e-4bd6-b7b3-e270f9b7ca13",
   "metadata": {},
   "outputs": [
    {
     "data": {
      "text/plain": [
       "array([1, 2, 3, 1, 9, 4])"
      ]
     },
     "execution_count": 214,
     "metadata": {},
     "output_type": "execute_result"
    }
   ],
   "source": [
    "# Horizontal stack \n",
    "v1 = np.array([1,2,3])\n",
    "v2 = np.array([1,9,4])\n",
    "\n",
    "np.hstack((v1,v2))"
   ]
  },
  {
   "cell_type": "code",
   "execution_count": null,
   "id": "aaba1565-95ac-41b7-8de7-4ae1ab401510",
   "metadata": {},
   "outputs": [],
   "source": []
  }
 ],
 "metadata": {
  "kernelspec": {
   "display_name": "Python [conda env:base] *",
   "language": "python",
   "name": "conda-base-py"
  },
  "language_info": {
   "codemirror_mode": {
    "name": "ipython",
    "version": 3
   },
   "file_extension": ".py",
   "mimetype": "text/x-python",
   "name": "python",
   "nbconvert_exporter": "python",
   "pygments_lexer": "ipython3",
   "version": "3.12.7"
  }
 },
 "nbformat": 4,
 "nbformat_minor": 5
}
