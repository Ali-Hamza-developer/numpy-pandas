{
 "cells": [
  {
   "cell_type": "markdown",
   "id": "45f63487-42ff-4922-8dfd-b36b658fae3a",
   "metadata": {},
   "source": [
    "**Numpy Tutorial**\n"
   ]
  },
  {
   "cell_type": "code",
   "execution_count": 5,
   "id": "1f89fe41-07a6-42c7-a005-35bdff27bf31",
   "metadata": {},
   "outputs": [],
   "source": [
    "import numpy as np"
   ]
  },
  {
   "cell_type": "markdown",
   "id": "e08ca3e3-c3f4-45c1-9f5d-3118c05e9d8d",
   "metadata": {},
   "source": [
    "Sure! Here are the **names of basic NumPy queries** that you can use without the performance details:\n",
    "\n",
    "---\n",
    "\n",
    "### **1. Array Creation**\n",
    "- `np.array()`\n",
    "- `np.zeros()`\n",
    "- `np.ones()`\n",
    "- `np.full()`\n",
    "- `np.eye()`\n",
    "- `np.random.rand()`\n",
    "- `np.random.randint()`\n",
    "- `np.arange()`\n",
    "- `np.linspace()`\n",
    "\n",
    "---\n",
    "\n",
    "### **2. Array Properties**\n",
    "- `ndim` \n",
    "- `shape`\n",
    "- `size`\n",
    "- `dtype`\n",
    "\n",
    "---\n",
    "\n",
    "### **3. Array Operations**\n",
    "- `+` (Addition)\n",
    "- `-` (Subtraction)\n",
    "- `*` (Multiplication)\n",
    "- `/` (Division)\n",
    "- `**` (Exponentiation)\n",
    "\n",
    "---\n",
    "\n",
    "### **4. Aggregation Functions**\n",
    "- `np.sum()`\n",
    "- `np.mean()`\n",
    "- `np.min()`\n",
    "- `np.max()`\n",
    "- `np.std()`\n",
    "- `np.prod()`\n",
    "- `np.argmin()`\n",
    "- `np.argmax()`\n",
    "\n",
    "---\n",
    "\n",
    "### **5. Indexing and Slicing**\n",
    "- `arr[<index>]`\n",
    "- `arr[start:end]`\n",
    "- `arr[start:end:step]`\n",
    "- `arr[:, <column>]`\n",
    "- `arr[<row>, <column>]`\n",
    "\n",
    "---\n",
    "\n",
    "### **6. Reshaping and Transposing**\n",
    "- `np.reshape()`\n",
    "- `np.transpose()`\n",
    "- `arr.T`\n",
    "\n",
    "---\n",
    "\n",
    "### **7. Joining Arrays**\n",
    "- `np.concatenate()`\n",
    "- `np.vstack()`\n",
    "- `np.hstack()`\n",
    "\n",
    "---\n",
    "\n",
    "### **8. Splitting Arrays**\n",
    "- `np.array_split()`\n",
    "- `np.split()`\n",
    "\n",
    "---\n",
    "\n",
    "### **9. Searching and Sorting**\n",
    "- `np.sort()`\n",
    "- `np.argsort()`\n",
    "- `np.where()`\n",
    "- `np.nonzero()`\n",
    "\n",
    "---\n",
    "\n",
    "### **10. Filtering**\n",
    "- `arr[arr > <value>]`\n",
    "- `np.extract()`\n",
    "\n",
    "---\n",
    "\n",
    "These are the core **NumPy queries** you can use in different operations. Let me know if you need more!"
   ]
  },
  {
   "cell_type": "code",
   "execution_count": 10,
   "id": "d88cab78-aa34-493e-9103-4e754de244b7",
   "metadata": {},
   "outputs": [
    {
     "name": "stdout",
     "output_type": "stream",
     "text": [
      "[ 3  6  7 78]\n"
     ]
    }
   ],
   "source": [
    "myarr = np.array([3,6,7,78], np.int64)\n",
    "print(myarr)\n"
   ]
  },
  {
   "cell_type": "code",
   "execution_count": 12,
   "id": "7eb25e65-6b52-4b27-92c7-e6a3821b9ea2",
   "metadata": {},
   "outputs": [
    {
     "data": {
      "text/plain": [
       "array([ 3,  6,  7, 78], dtype=int64)"
      ]
     },
     "execution_count": 12,
     "metadata": {},
     "output_type": "execute_result"
    }
   ],
   "source": [
    "myarr"
   ]
  },
  {
   "cell_type": "code",
   "execution_count": 5,
   "id": "4749ef24-5194-46dc-8fa0-a0e260ea749e",
   "metadata": {},
   "outputs": [
    {
     "data": {
      "text/plain": [
       "3"
      ]
     },
     "execution_count": 5,
     "metadata": {},
     "output_type": "execute_result"
    }
   ],
   "source": [
    "myarr[0]"
   ]
  },
  {
   "cell_type": "code",
   "execution_count": 6,
   "id": "9cbff108-6636-4db8-a1ea-7d6a355d08af",
   "metadata": {},
   "outputs": [
    {
     "data": {
      "text/plain": [
       "(4,)"
      ]
     },
     "execution_count": 6,
     "metadata": {},
     "output_type": "execute_result"
    }
   ],
   "source": [
    "myarr.shape"
   ]
  },
  {
   "cell_type": "code",
   "execution_count": 7,
   "id": "5134a03c-b302-455f-8df1-816eba6b3c6b",
   "metadata": {},
   "outputs": [
    {
     "name": "stdout",
     "output_type": "stream",
     "text": [
      "[[1 2 3]\n",
      " [4 5 6]]\n"
     ]
    }
   ],
   "source": [
    "arr = np.array([[1, 2, 3], [4, 5, 6]])\n",
    "\n",
    "print(arr)\n"
   ]
  },
  {
   "cell_type": "markdown",
   "id": "47afc110-06bf-47ca-883d-6a76a335a9fe",
   "metadata": {},
   "source": [
    "***Array Creation Conversion from other python structures***"
   ]
  },
  {
   "cell_type": "code",
   "execution_count": 9,
   "id": "81d8a6cc-83dd-4102-b1c6-994c0f0b29a2",
   "metadata": {},
   "outputs": [],
   "source": [
    "listarray = np.array([[1,2,3],[4,5,6],[7,8,9]])"
   ]
  },
  {
   "cell_type": "code",
   "execution_count": 10,
   "id": "93859362-a1e4-45fe-96ac-c5b3db664ee7",
   "metadata": {},
   "outputs": [
    {
     "data": {
      "text/plain": [
       "array([[1, 2, 3],\n",
       "       [4, 5, 6],\n",
       "       [7, 8, 9]])"
      ]
     },
     "execution_count": 10,
     "metadata": {},
     "output_type": "execute_result"
    }
   ],
   "source": [
    "listarray"
   ]
  },
  {
   "cell_type": "code",
   "execution_count": 11,
   "id": "89347d9c-3a60-4027-a4c2-4061b47544b7",
   "metadata": {},
   "outputs": [
    {
     "data": {
      "text/plain": [
       "dtype('int32')"
      ]
     },
     "execution_count": 11,
     "metadata": {},
     "output_type": "execute_result"
    }
   ],
   "source": [
    "listarray.dtype"
   ]
  },
  {
   "cell_type": "code",
   "execution_count": 12,
   "id": "9734a923-f30e-4446-9836-6069e6ea68ef",
   "metadata": {},
   "outputs": [
    {
     "data": {
      "text/plain": [
       "(3, 3)"
      ]
     },
     "execution_count": 12,
     "metadata": {},
     "output_type": "execute_result"
    }
   ],
   "source": [
    "listarray.shape"
   ]
  },
  {
   "cell_type": "code",
   "execution_count": 13,
   "id": "df4cebc1-fb4b-4657-84b7-1276d6b0cb93",
   "metadata": {},
   "outputs": [
    {
     "data": {
      "text/plain": [
       "9"
      ]
     },
     "execution_count": 13,
     "metadata": {},
     "output_type": "execute_result"
    }
   ],
   "source": [
    "listarray.size"
   ]
  },
  {
   "cell_type": "code",
   "execution_count": 14,
   "id": "94586766-e627-48d9-8ce3-e87772935d1f",
   "metadata": {},
   "outputs": [
    {
     "name": "stdout",
     "output_type": "stream",
     "text": [
      "[ 0  1  2  3  4  5  6  7  8  9 10 11 12 13 14]\n"
     ]
    }
   ],
   "source": [
    "rng = np.arange(15)\n",
    "print(rng)"
   ]
  },
  {
   "cell_type": "code",
   "execution_count": 15,
   "id": "014edae5-9a92-4b84-89e8-bcbebd8ec468",
   "metadata": {},
   "outputs": [],
   "source": [
    "arr2 = np.array([[1, 2, 3, 4, 5, 6, 7, 8, 9, 10],\n",
    "                 [11, 12, 13, 14, 15, 16, 17, 18, 19, 20],\n",
    "                 [21, 22, 23, 24, 25, 26, 27, 28, 29, 30],\n",
    "                 # ... more rows\n",
    "                ])"
   ]
  },
  {
   "cell_type": "code",
   "execution_count": 16,
   "id": "9b570cb9-bfa1-4c08-b609-b1fa7bbf7d82",
   "metadata": {},
   "outputs": [
    {
     "name": "stdout",
     "output_type": "stream",
     "text": [
      "2\n"
     ]
    }
   ],
   "source": [
    "print(arr2.ndim)    # Dimensions\n"
   ]
  },
  {
   "cell_type": "code",
   "execution_count": 17,
   "id": "ea29230a-3d93-491a-9088-a3a4b62ca43a",
   "metadata": {},
   "outputs": [
    {
     "name": "stdout",
     "output_type": "stream",
     "text": [
      "(3, 10)\n"
     ]
    }
   ],
   "source": [
    "print(arr2.shape)   # Shape of 2D array\n"
   ]
  },
  {
   "cell_type": "code",
   "execution_count": 18,
   "id": "e8a8b0b2-7912-4456-a51e-70100f52cdd1",
   "metadata": {},
   "outputs": [
    {
     "name": "stdout",
     "output_type": "stream",
     "text": [
      "30\n"
     ]
    }
   ],
   "source": [
    "print(arr2.size)    # Total number of elements in 3D\n"
   ]
  },
  {
   "cell_type": "code",
   "execution_count": 19,
   "id": "c9d9d0e0-3d13-476e-8f92-de0a9f950df3",
   "metadata": {},
   "outputs": [
    {
     "name": "stdout",
     "output_type": "stream",
     "text": [
      "int32\n"
     ]
    }
   ],
   "source": [
    "print(arr2.dtype)   # Data type of elements in arr2"
   ]
  },
  {
   "cell_type": "code",
   "execution_count": 20,
   "id": "3570ee02-c7c8-452a-80b6-5ba5f0911890",
   "metadata": {},
   "outputs": [
    {
     "data": {
      "text/plain": [
       "array([[0., 0., 0., 0., 0.],\n",
       "       [0., 0., 0., 0., 0.],\n",
       "       [0., 0., 0., 0., 0.],\n",
       "       [0., 0., 0., 0., 0.],\n",
       "       [0., 0., 0., 0., 0.]])"
      ]
     },
     "execution_count": 20,
     "metadata": {},
     "output_type": "execute_result"
    }
   ],
   "source": [
    "np.zeros((5,5))  # 5x5 array of zeros"
   ]
  },
  {
   "cell_type": "code",
   "execution_count": 21,
   "id": "c2a26650-21bd-494f-8ac5-278794ee824a",
   "metadata": {},
   "outputs": [
    {
     "data": {
      "text/plain": [
       "array([[1., 1., 1.],\n",
       "       [1., 1., 1.]])"
      ]
     },
     "execution_count": 21,
     "metadata": {},
     "output_type": "execute_result"
    }
   ],
   "source": [
    "np.ones((2,3))   # 2x3 array of ones\n"
   ]
  },
  {
   "cell_type": "code",
   "execution_count": 22,
   "id": "a5b7febb-b2a7-44da-8119-374705d4302f",
   "metadata": {},
   "outputs": [
    {
     "data": {
      "text/plain": [
       "array([[8, 8, 8],\n",
       "       [8, 8, 8],\n",
       "       [8, 8, 8]])"
      ]
     },
     "execution_count": 22,
     "metadata": {},
     "output_type": "execute_result"
    }
   ],
   "source": [
    "np.full((3,3),8)    # 3x3 array filled with 8"
   ]
  },
  {
   "cell_type": "code",
   "execution_count": 23,
   "id": "be648f58-caf0-44a3-8136-6671642bd53b",
   "metadata": {},
   "outputs": [
    {
     "data": {
      "text/plain": [
       "array([[0.88256172, 0.3676753 , 0.84755824, 0.54561128, 0.90978537],\n",
       "       [0.83968557, 0.94368979, 0.38132406, 0.4025159 , 0.0749898 ],\n",
       "       [0.72216791, 0.74369995, 0.91918315, 0.54577275, 0.02635131],\n",
       "       [0.85667951, 0.74722158, 0.43476058, 0.44878055, 0.04246582]])"
      ]
     },
     "execution_count": 23,
     "metadata": {},
     "output_type": "execute_result"
    }
   ],
   "source": [
    "np.random.rand(4, 5)   # 4x5 array of random floats"
   ]
  },
  {
   "cell_type": "code",
   "execution_count": 24,
   "id": "f7ff04ea-eec2-4e03-b3fc-1bcbaad9c6ab",
   "metadata": {},
   "outputs": [
    {
     "data": {
      "text/plain": [
       "array([[1., 0., 0., 0., 0.],\n",
       "       [0., 1., 0., 0., 0.],\n",
       "       [0., 0., 1., 0., 0.],\n",
       "       [0., 0., 0., 1., 0.],\n",
       "       [0., 0., 0., 0., 1.]])"
      ]
     },
     "execution_count": 24,
     "metadata": {},
     "output_type": "execute_result"
    }
   ],
   "source": [
    "np.eye(5)              # 5x5 Identity matrix"
   ]
  },
  {
   "cell_type": "code",
   "execution_count": 25,
   "id": "bc19abec-a368-4e23-b727-e58d704108e3",
   "metadata": {},
   "outputs": [
    {
     "data": {
      "text/plain": [
       "array([ 0,  4,  8, 12, 16, 20, 24, 28, 32, 36, 40, 44, 48, 52, 56, 60, 64,\n",
       "       68, 72, 76, 80, 84, 88, 92, 96])"
      ]
     },
     "execution_count": 25,
     "metadata": {},
     "output_type": "execute_result"
    }
   ],
   "source": [
    "np.arange(0, 100, 4)  # 0 to 95 with step 4"
   ]
  },
  {
   "cell_type": "code",
   "execution_count": 26,
   "id": "0d0110e2-e4e0-40f4-af7b-591166fe1b35",
   "metadata": {},
   "outputs": [
    {
     "data": {
      "text/plain": [
       "array([  0.        ,  11.11111111,  22.22222222,  33.33333333,\n",
       "        44.44444444,  55.55555556,  66.66666667,  77.77777778,\n",
       "        88.88888889, 100.        ])"
      ]
     },
     "execution_count": 26,
     "metadata": {},
     "output_type": "execute_result"
    }
   ],
   "source": [
    "np.linspace(0, 100, 10)  # 6 equally spaced points between 0 and 10"
   ]
  },
  {
   "cell_type": "code",
   "execution_count": 27,
   "id": "79261dc5-e241-49f2-81c6-cdde65bc36e6",
   "metadata": {},
   "outputs": [
    {
     "name": "stdout",
     "output_type": "stream",
     "text": [
      "[6 6 6 6 6]\n",
      "[-4 -2  0  2  4]\n",
      "[5 8 9 8 5]\n",
      "[0.2 0.5 1.  2.  5. ]\n",
      "[ 1  4  9 16 25]\n"
     ]
    }
   ],
   "source": [
    "a = np.array([1, 2, 3, 4, 5])\n",
    "b = np.array([5, 4, 3, 2, 1])\n",
    "\n",
    "print(a + b)       # Element-wise addition\n",
    "print(a - b)       # Element-wise subtraction\n",
    "print(a * b)       # Element-wise multiplication\n",
    "print(a / b)       # Element-wise division\n",
    "print(a ** 2)      # Square of each element"
   ]
  },
  {
   "cell_type": "code",
   "execution_count": 28,
   "id": "d7a8805a-a887-4da0-96fc-973cb5d3702e",
   "metadata": {},
   "outputs": [
    {
     "name": "stdout",
     "output_type": "stream",
     "text": [
      "[  1   2   3   4   5   6   7   8   9  10  11  12  13  14  15  16  17  18\n",
      "  19  20  21  22  23  24  25  26  27  28  29  30  31  32  33  34  35  36\n",
      "  37  38  39  40  41  42  43  44  45  46  47  48  49  50  51  52  53  54\n",
      "  55  56  57  58  59  60  61  62  63  64  65  66  67  68  69  70  71  72\n",
      "  73  74  75  76  77  78  79  80  81  82  83  84  85  86  87  88  89  90\n",
      "  91  92  93  94  95  96  97  98  99 100]\n",
      "5050\n",
      "1\n",
      "100\n",
      "50.5\n",
      "28.86607004772212\n"
     ]
    }
   ],
   "source": [
    "arr = np.arange(1, 101)  # 1D array with 100 elements\n",
    "print(arr)\n",
    "print(arr.sum())           # Sum of all elements\n",
    "print(arr.min())           # Minimum value\n",
    "print(arr.max())           # Maximum value\n",
    "print(arr.mean())          # Mean (average)\n",
    "print(arr.std())           # Standard deviati"
   ]
  },
  {
   "cell_type": "code",
   "execution_count": 29,
   "id": "74ed8bb4-ac0e-42cb-824d-018136b899f5",
   "metadata": {},
   "outputs": [],
   "source": [
    "arr = np.arange(1, 101)    # 1D array of 100 elements"
   ]
  },
  {
   "cell_type": "code",
   "execution_count": 30,
   "id": "0156510e-d778-47fc-9916-3ad1272639c3",
   "metadata": {},
   "outputs": [
    {
     "data": {
      "text/plain": [
       "array([  1,   2,   3,   4,   5,   6,   7,   8,   9,  10,  11,  12,  13,\n",
       "        14,  15,  16,  17,  18,  19,  20,  21,  22,  23,  24,  25,  26,\n",
       "        27,  28,  29,  30,  31,  32,  33,  34,  35,  36,  37,  38,  39,\n",
       "        40,  41,  42,  43,  44,  45,  46,  47,  48,  49,  50,  51,  52,\n",
       "        53,  54,  55,  56,  57,  58,  59,  60,  61,  62,  63,  64,  65,\n",
       "        66,  67,  68,  69,  70,  71,  72,  73,  74,  75,  76,  77,  78,\n",
       "        79,  80,  81,  82,  83,  84,  85,  86,  87,  88,  89,  90,  91,\n",
       "        92,  93,  94,  95,  96,  97,  98,  99, 100])"
      ]
     },
     "execution_count": 30,
     "metadata": {},
     "output_type": "execute_result"
    }
   ],
   "source": [
    "arr"
   ]
  },
  {
   "cell_type": "code",
   "execution_count": 31,
   "id": "c2ee8f91-cbcd-4d8c-8904-8004a81a8860",
   "metadata": {},
   "outputs": [
    {
     "name": "stdout",
     "output_type": "stream",
     "text": [
      "11\n",
      "100\n",
      "[11 12 13 14 15 16 17 18 19 20]\n"
     ]
    }
   ],
   "source": [
    "print(arr[10])            # 11th element\n",
    "print(arr[-1])            # Last element\n",
    "print(arr[10:20])         # Slice from index 10 to 19"
   ]
  },
  {
   "cell_type": "code",
   "execution_count": 32,
   "id": "c3cbf2c0-e484-48bb-a896-1c6a6b4cff68",
   "metadata": {},
   "outputs": [
    {
     "name": "stdout",
     "output_type": "stream",
     "text": [
      "[[48  6  6 24 42 15 87 49 49 40]\n",
      " [45 62 48 67 44 53 25 39 15 97]\n",
      " [53 47 22 37 92 66  6 79  8 63]\n",
      " [ 5 24 76 17 23 45 82 36 52 80]\n",
      " [ 6 63  7 60 18 76  2 48  2 34]\n",
      " [30 67 26 90 25 77 59 15 21 78]\n",
      " [43 58 34 51 19 67 36 50 86 55]\n",
      " [12 81 16 98 98  7 71  7 40 42]\n",
      " [86 49 77 39 83 64 39 32 74 68]\n",
      " [30 57 10 51 43 28 10 45 33 50]]\n"
     ]
    }
   ],
   "source": [
    "arr2 = np.random.randint(1, 100, (10, 10))   # 10x10 array\n",
    "print(arr2)"
   ]
  },
  {
   "cell_type": "code",
   "execution_count": 33,
   "id": "573f3103-1592-4f1b-90d2-4da9ca43bdd1",
   "metadata": {},
   "outputs": [
    {
     "name": "stdout",
     "output_type": "stream",
     "text": [
      "48\n"
     ]
    }
   ],
   "source": [
    "print(arr2[0, 0])         # Element in row 0, column 0"
   ]
  },
  {
   "cell_type": "code",
   "execution_count": 34,
   "id": "11264869-60a8-411d-9a25-fe94f4bc54dc",
   "metadata": {},
   "outputs": [
    {
     "name": "stdout",
     "output_type": "stream",
     "text": [
      "[ 6 62 47 24 63 67 58 81 49 57]\n"
     ]
    }
   ],
   "source": [
    "print(arr2[:, 1])         # All rows, column 1"
   ]
  },
  {
   "cell_type": "code",
   "execution_count": 35,
   "id": "f0595c0c-62e2-4fe0-93d4-332ff7ee728a",
   "metadata": {},
   "outputs": [
    {
     "name": "stdout",
     "output_type": "stream",
     "text": [
      "[1 2 3]\n"
     ]
    }
   ],
   "source": [
    "# Copy (independent)\n",
    "a = np.array([1, 2, 3])\n",
    "b = a.copy()\n",
    "b[0] = 100\n",
    "print(a)   # Original not changed"
   ]
  },
  {
   "cell_type": "code",
   "execution_count": 36,
   "id": "71c5b2bc-23d8-45d3-8c83-b01c03c0ba80",
   "metadata": {},
   "outputs": [
    {
     "name": "stdout",
     "output_type": "stream",
     "text": [
      "[200   2   3]\n"
     ]
    }
   ],
   "source": [
    "# View (linked)\n",
    "c = a.view()\n",
    "c[0] = 200\n",
    "print(a)   # Original changes"
   ]
  },
  {
   "cell_type": "code",
   "execution_count": 37,
   "id": "0b077e5c-b928-4927-bc45-491077500360",
   "metadata": {},
   "outputs": [
    {
     "data": {
      "text/plain": [
       "array([1, 2, 3, 4, 5, 6])"
      ]
     },
     "execution_count": 37,
     "metadata": {},
     "output_type": "execute_result"
    }
   ],
   "source": [
    "a = np.array([1, 2, 3])\n",
    "b = np.array([4, 5, 6])\n",
    "\n",
    "np.concatenate((a, b))            # Join 1D arrays\n",
    "             "
   ]
  },
  {
   "cell_type": "code",
   "execution_count": 38,
   "id": "f634c38c-1bef-4876-a660-bdd41d8bca55",
   "metadata": {},
   "outputs": [
    {
     "data": {
      "text/plain": [
       "array([[1, 2, 3],\n",
       "       [4, 5, 6]])"
      ]
     },
     "execution_count": 38,
     "metadata": {},
     "output_type": "execute_result"
    }
   ],
   "source": [
    "np.vstack((a, b))                 # Stack vertically\n"
   ]
  },
  {
   "cell_type": "code",
   "execution_count": 39,
   "id": "c8b619e9-97b7-4a27-9a18-92d44e7cc417",
   "metadata": {},
   "outputs": [
    {
     "data": {
      "text/plain": [
       "array([1, 2, 3, 4, 5, 6])"
      ]
     },
     "execution_count": 39,
     "metadata": {},
     "output_type": "execute_result"
    }
   ],
   "source": [
    "np.hstack((a, b))    #horizontally"
   ]
  },
  {
   "cell_type": "code",
   "execution_count": 78,
   "id": "a8822133-9ae8-4653-9899-a4ea025f89c5",
   "metadata": {},
   "outputs": [
    {
     "data": {
      "text/plain": [
       "[array([1, 2]), array([3, 4]), array([5, 6])]"
      ]
     },
     "execution_count": 78,
     "metadata": {},
     "output_type": "execute_result"
    }
   ],
   "source": [
    "arr = np.array([1, 2, 3, 4, 5, 6])\n",
    "\n",
    "np.array_split(arr, 3)      # Split into 3 parts"
   ]
  },
  {
   "cell_type": "code",
   "execution_count": 82,
   "id": "641473ae-01c1-4eea-aae3-f0c728a93461",
   "metadata": {},
   "outputs": [
    {
     "name": "stdout",
     "output_type": "stream",
     "text": [
      "(array([3], dtype=int64),)\n"
     ]
    }
   ],
   "source": [
    "arr = np.array([6, 3, 1, 7, 2])\n",
    "\n",
    "print(np.where(arr == 7))          # Find index where value is 7\n"
   ]
  },
  {
   "cell_type": "code",
   "execution_count": 84,
   "id": "3decaf4f-a1d4-4cca-a0d4-f7ac45dd76a0",
   "metadata": {},
   "outputs": [
    {
     "name": "stdout",
     "output_type": "stream",
     "text": [
      "[1 2 3 6 7]\n"
     ]
    }
   ],
   "source": [
    "print(np.sort(arr))    "
   ]
  },
  {
   "cell_type": "code",
   "execution_count": 86,
   "id": "456e50c5-dcc7-45ea-a06c-ddde9cd97854",
   "metadata": {},
   "outputs": [
    {
     "name": "stdout",
     "output_type": "stream",
     "text": [
      "[3 4 5]\n"
     ]
    }
   ],
   "source": [
    "arr = np.array([1, 2, 3, 4, 5])\n",
    "\n",
    "filter_arr = arr > 2\n",
    "print(arr[filter_arr])       # [3 4 5]"
   ]
  },
  {
   "cell_type": "code",
   "execution_count": null,
   "id": "b95705a1-e178-4793-9060-db4e76a644ca",
   "metadata": {},
   "outputs": [],
   "source": []
  }
 ],
 "metadata": {
  "kernelspec": {
   "display_name": "Python [conda env:base] *",
   "language": "python",
   "name": "conda-base-py"
  },
  "language_info": {
   "codemirror_mode": {
    "name": "ipython",
    "version": 3
   },
   "file_extension": ".py",
   "mimetype": "text/x-python",
   "name": "python",
   "nbconvert_exporter": "python",
   "pygments_lexer": "ipython3",
   "version": "3.12.7"
  }
 },
 "nbformat": 4,
 "nbformat_minor": 5
}
